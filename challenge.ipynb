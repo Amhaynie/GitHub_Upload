{
 "cells": [
  {
   "cell_type": "code",
   "execution_count": 4,
   "metadata": {},
   "outputs": [
    {
     "name": "stdout",
     "output_type": "stream",
     "text": [
      "There are 5 loans in the list.\n"
     ]
    }
   ],
   "source": [
    "# coding: utf-8\n",
    "import csv\n",
    "from pathlib import Path\n",
    "\n",
    "\"\"\"Part 1: Automate the Calculations.\n",
    "\n",
    "Automate the calculations for the loan portfolio summaries.\n",
    "\n",
    "First, let's start with some calculations on a list of prices for 5 loans.\n",
    "    1. Use the `len` function to calculate the total number of loans in the list.\n",
    "    2. Use the `sum` function to calculate the total of all loans in the list.\n",
    "    3. Using the sum of all loans and the total number of loans, calculate the average loan price.\n",
    "    4. Print all calculations with descriptive messages.\n",
    "\"\"\"\n",
    "#Loan_costs is the variable name with a list of 5 different costs\n",
    "loan_costs = [500, 600, 200, 1000, 450]\n",
    "\n",
    "# How many loans are in the list?\n",
    "# @TODO: Use the `len` function to calculate the total number of loans in the list.\n",
    "# Print the number of loans from the list\n",
    "\n",
    "#This function uses the len() functiion to calculate and print the total number of loans in the list\n",
    "total_loans_list = len(loan_costs)\n",
    "print(f\"There are {total_loans_list} loans in the list.\")\n"
   ]
  },
  {
   "cell_type": "code",
   "execution_count": 5,
   "metadata": {},
   "outputs": [
    {
     "name": "stdout",
     "output_type": "stream",
     "text": [
      "The total of all loans in the list is $2750.\n"
     ]
    }
   ],
   "source": [
    "\n",
    "# What is the total of all loans?\n",
    "# @TODO: Use the `sum` function to calculate the total of all loans in the list.\n",
    "# Print the total value of the loans\n",
    "\n",
    "#The sum() function used below adds up all the loan amounts in the list returning the total amount \n",
    "total_loans = sum(loan_costs)\n",
    "print(f\"The total of all loans in the list is ${total_loans}.\")\n"
   ]
  },
  {
   "cell_type": "code",
   "execution_count": 6,
   "metadata": {},
   "outputs": [
    {
     "name": "stdout",
     "output_type": "stream",
     "text": [
      "The average loan amount from the list is, $550.0.\n"
     ]
    }
   ],
   "source": [
    "\n",
    "# What is the average loan amount from the list?\n",
    "# @TODO: Using the sum of all loans and the total number of loans, calculate the average loan price.\n",
    "# Print the average loan amount\n",
    "\n",
    "#The average_loan_amount function below returns the average of the loan amounts in the list\n",
    "average_loan_amount = total_loans / total_loans_list\n",
    "print(f\"The average loan amount from the list is, ${average_loan_amount}.\")"
   ]
  },
  {
   "cell_type": "code",
   "execution_count": 7,
   "metadata": {},
   "outputs": [
    {
     "name": "stdout",
     "output_type": "stream",
     "text": [
      "The future value of the loan is 1000.\n",
      "The remaining loan months are 9.\n"
     ]
    }
   ],
   "source": [
    "\n",
    "\n",
    "\"\"\"Part 2: Analyze Loan Data.\n",
    "\n",
    "Analyze the loan to determine the investment evaluation.\n",
    "\n",
    "Using more detailed data on one of these loans, follow these steps to calculate a Present Value, or a \"fair price\" for what this loan would be worth.\n",
    "\n",
    "1. Use get() on the dictionary of additional information to extract the **Future Value** and **Remaining Months** on the loan.\n",
    "    a. Save these values as variables called `future_value` and `remaining_months`.\n",
    "    b. Print each variable.\n",
    "\n",
    "    @NOTE:\n",
    "    **Future Value**: The amount of money the borrower has to pay back upon maturity of the loan (a.k.a. \"Face Value\")\n",
    "    **Remaining Months**: The remaining maturity (in months) before the loan needs to be fully repaid.\n",
    "\n",
    "2. Use the formula for Present Value to calculate a \"fair value\" of the loan. Use a minimum required return of 20% as the discount rate.\n",
    "3. Write a conditional statement (an if-else statement) to decide if the present value represents the loan's fair value.\n",
    "    a. If the present value of the loan is greater than or equal to the cost, then print a message that says the loan is worth at least the cost to buy it.\n",
    "    b. Else, the present value of the loan is less than the loan cost, then print a message that says that the loan is too expensive and not worth the price.\n",
    "\n",
    "    @NOTE:\n",
    "    If Present Value represents the loan's fair value (given the required minimum return of 20%), does it make sense to buy the loan at its current cost?\n",
    "\"\"\"\n",
    "\n",
    "# Given the following loan data, you will need to calculate the present value for the loan\n",
    "\n",
    "#The loan value below calls all values in the dictionary\n",
    "loan = {\n",
    "    \"loan_price\": 500,\n",
    "    \"remaining_months\": 9,\n",
    "    \"repayment_interval\": \"bullet\",\n",
    "    \"future_value\": 1000,\n",
    "}\n",
    "\n",
    "# @TODO: Use get() on the dictionary of additional information to extract the Future Value and Remaining Months on the loan.\n",
    "# Print each variable.\n",
    "\n",
    "#The get()function is used below to return the future value, and remaining months from the dictionary\n",
    "future_value = loan.get(\"future_value\")\n",
    "remaining_months = loan.get(\"remaining_months\")\n",
    "print(f\"The future value of the loan is {future_value}.\")\n",
    "print(f\"The remaining loan months are {remaining_months}.\")\n"
   ]
  },
  {
   "cell_type": "code",
   "execution_count": 8,
   "metadata": {},
   "outputs": [
    {
     "name": "stdout",
     "output_type": "stream",
     "text": [
      "Present Value is $861.7727126032183.\n"
     ]
    }
   ],
   "source": [
    "\n",
    "\n",
    "# @TODO: Use the formula for Present Value to calculate a \"fair value\" of the loan.\n",
    "# Use a minimum required return of 20% as the discount rate.\n",
    "#   You'll want to use the **monthly** version of the present value formula.\n",
    "#   HINT: Present Value = Future Value / (1 + Discount_Rate/12) ** remaining_months\n",
    "\n",
    "#The discount_rate of 20% below is used to calculate the fair value of the loan.\n",
    "\n",
    "discount_rate = .20\n",
    "\n",
    "#This function below calculates the present value of the loan using the future value, discount rate, and remaining months\n",
    "present_value = future_value / (1+ (discount_rate/12))** remaining_months\n",
    "print(f\"Present Value is ${present_value}.\")\n",
    "\n"
   ]
  },
  {
   "cell_type": "code",
   "execution_count": 6,
   "metadata": {},
   "outputs": [
    {
     "name": "stdout",
     "output_type": "stream",
     "text": [
      "This loan is worth buying.\n"
     ]
    }
   ],
   "source": [
    "\n",
    "# If Present Value represents what the loan is really worth, does it make sense to buy the loan at its cost?\n",
    "# @TODO: Write a conditional statement (an if-else statement) to decide if the present value represents the loan's fair value.\n",
    "#    If the present value of the loan is greater than or equal to the cost, then print a message that says the loan is worth at least the cost to buy it.\n",
    "#    Else, the present value of the loan is less than the loan cost, then print a message that says that the loan is too expensive and not worth the price.\n",
    "\n",
    "#This fuction uses get() to extract the loan price from the dictionary\n",
    "loan_price = loan.get(\"loan_price\")\n",
    "\n",
    "#If present value is greater than or equal to the loan price print \"This loan is worth buying\"\n",
    "if present_value >= loan_price:\n",
    "    print(f\"This loan is worth buying.\")\n",
    "else:\n",
    "#If the present value is less than the loan price, print \"This loan is too expensive and not worth buying\"\n",
    "    print(f\"This loan is too expensive and not worth buying.\")\n"
   ]
  },
  {
   "cell_type": "code",
   "execution_count": 10,
   "metadata": {},
   "outputs": [],
   "source": [
    "\n",
    "import numpy as np \n",
    "# I used numpy as the defining function\n",
    "\"\"\"Part 3: Perform Financial Calculations.\n",
    "\n",
    "Perform financial calculations using functions.\n",
    "\n",
    "1. Define a new function that will be used to calculate present value.\n",
    "    a. This function should include parameters for `future_value`, `remaining_months`, and the `annual_discount_rate`\n",
    "    b. The function should return the `present_value` for the loan.\n",
    "2. Use the function to calculate the present value of the new loan given below.\n",
    "    a. Use an `annual_discount_rate` of 0.2 for this new loan calculation.\n",
    "\"\"\"\n",
    "\n",
    "# Given the following loan data, you will need to calculate the present value for the loan\n",
    "new_loan = {\"loan_price\": 800, \"remaining_months\": 12, \"repayment_interval\": \"bullet\", \"future_value\": 1000 }\n",
    "\n",
    "# @TODO: Define a new function that will be used to calculate present value.\n",
    "#    This function should include parameters for `future_value`, `remaining_months`, and the `annual_discount_rate`\n",
    "#    The function should return the `present_value` for the loan.\n",
    "\n",
    "future_value = 1000\n",
    "remaining_months = 12\n",
    "annual_discount_rate = 0.2\n",
    "\n",
    "#This function should return the present value of the loan\n",
    "present_value = future_value / (1+ (annual_discount_rate/12))** remaining_months\n",
    "def net_present_value(fv, rm, adr):\n",
    "    present_value = fv / (1 + (adr/12))** rm\n",
    "    #Want function to return present value\n",
    "    return present_value"
   ]
  },
  {
   "cell_type": "code",
   "execution_count": 13,
   "metadata": {},
   "outputs": [
    {
     "data": {
      "text/plain": [
       "820.0814425978174"
      ]
     },
     "execution_count": 13,
     "metadata": {},
     "output_type": "execute_result"
    }
   ],
   "source": [
    "net_present_value(future_value, remaining_months, annual_discount_rate)"
   ]
  },
  {
   "cell_type": "code",
   "execution_count": 14,
   "metadata": {},
   "outputs": [
    {
     "name": "stdout",
     "output_type": "stream",
     "text": [
      "The present value of the loan is: 820.0814425978174\n"
     ]
    }
   ],
   "source": [
    "\n",
    "\n",
    "# @TODO: Use the function to calculate the present value of the new loan given below.\n",
    "#    Use an `annual_discount_rate` of 0.2 for this new loan calculation.\n",
    "\n",
    "#The function below uses an f string to print \"The present value of the loan is...\"\n",
    "print(f\"The present value of the loan is: {present_value}\")\n",
    "\n"
   ]
  },
  {
   "cell_type": "code",
   "execution_count": 15,
   "metadata": {},
   "outputs": [
    {
     "name": "stdout",
     "output_type": "stream",
     "text": [
      "[{'loan_price': 500, 'remaining_months': 13, 'repayment_interval': 'bullet', 'future_value': 1000}, {'loan_price': 200, 'remaining_months': 16, 'repayment_interval': 'bullet', 'future_value': 1000}]\n"
     ]
    }
   ],
   "source": [
    "\n",
    "\"\"\"Part 4: Conditionally filter lists of loans.\n",
    "\n",
    "In this section, you will use a loop to iterate through a series of loans and select only the inexpensive loans.\n",
    "\n",
    "1. Create a new, empty list called `inexpensive_loans`.\n",
    "2. Use a for loop to select each loan from a list of loans.\n",
    "    a. Inside the for loop, write an if-statement to determine if the loan_price is less than or equal to 500\n",
    "    b. If the loan_price is less than or equal to 500 then append that loan to the `inexpensive_loans` list.\n",
    "3. Print the list of inexpensive_loans.\n",
    "\"\"\"\n",
    "#The variable loans calls the dictionary\n",
    "loans = [\n",
    "    { \"loan_price\": 700, \"remaining_months\": 9, \"repayment_interval\": \"monthly\", \"future_value\": 1000 },\n",
    "    { \"loan_price\": 500, \"remaining_months\": 13, \"repayment_interval\": \"bullet\", \"future_value\": 1000 },\n",
    "    { \"loan_price\": 200, \"remaining_months\": 16, \"repayment_interval\": \"bullet\", \"future_value\": 1000 },\n",
    "    { \"loan_price\": 900, \"remaining_months\": 16, \"repayment_interval\": \"bullet\", \"future_value\": 1000 },\n",
    "\n",
    "]\n",
    "\n",
    "# @TODO: Create an empty list called `inexpensive_loans`\n",
    "\n",
    "#This is my empty list called by the variable inexpensive_loans\n",
    "inexpensive_loans = []\n",
    "\n",
    "\n",
    "# @TODO: Loop through all the loans and append any that cost $500 or less to the `inexpensive_loans` list\n",
    "\n",
    "#Below I used a for loop to extract and add to inexpensive_loans list for loans with a value less than or equal to $500\n",
    "for loan in loans :\n",
    "    if loan[\"loan_price\"] <= 500:\n",
    "        inexpensive_loans.append(loan)\n",
    "    #inexpensive_loans.append(\"loan_price\")\n",
    "\n",
    "# @TODO: Print the `inexpensive_loans` list\n",
    "print(inexpensive_loans)\n"
   ]
  },
  {
   "cell_type": "code",
   "execution_count": 16,
   "metadata": {},
   "outputs": [],
   "source": [
    "\n",
    "\"\"\"Part 5: Save the results.\n",
    "\n",
    "Output this list of inexpensive loans to a csv file\n",
    "    1. Use `with open` to open a new CSV file.\n",
    "        a. Create a `csvwriter` using the `csv` library.\n",
    "        b. Use the new csvwriter to write the header variable as the first row.\n",
    "        c. Use a for loop to iterate through each loan in `inexpensive_loans`.\n",
    "            i. Use the csvwriter to write the `loan.values()` to a row in the CSV file.\n",
    "\n",
    "    Hint: Refer to the official documentation for the csv library.\n",
    "    https://docs.python.org/3/library/csv.html#writer-objects\n",
    "\n",
    "\"\"\"\n",
    "import csv\n",
    "from pathlib import Path\n",
    "#Give path for csv\n",
    "csvpath = Path(\"inexpensive_loans.csv\")\n",
    "#Open file and call it inexpensive_loans as a csv file\n",
    "with open(csvpath, \"w\", newline = \"\") as csvfile:\n",
    "    #Open csv path in write mode \"w\" and make every line blank hence the empty space\n",
    "\n",
    "    data = csv.writer(csvfile)\n",
    "    #Writing data from csv file\n",
    "\n",
    "    header = [\"loan_price\", \"remaining_months\", \"repayment_interval\", \"future_value\"]\n",
    "    #Header is the data in csv file plus the rows in the data\n",
    "\n",
    "    #Using data.writerow to call header as a function\n",
    "    data.writerow(header)\n",
    "    data.writerows(inexpensive_loans)\n",
    "    \n",
    "\n",
    "#This is the output path to call the comma-separated values\n",
    "output_path = Path(\"inexpensive_loans.csv\")\n",
    "\n"
   ]
  }
 ],
 "metadata": {
  "kernelspec": {
   "display_name": "dev",
   "language": "python",
   "name": "dev"
  },
  "language_info": {
   "codemirror_mode": {
    "name": "ipython",
    "version": 3
   },
   "file_extension": ".py",
   "mimetype": "text/x-python",
   "name": "python",
   "nbconvert_exporter": "python",
   "pygments_lexer": "ipython3",
   "version": "3.7.13"
  },
  "orig_nbformat": 4
 },
 "nbformat": 4,
 "nbformat_minor": 2
}
